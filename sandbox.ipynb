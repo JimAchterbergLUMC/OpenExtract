{
 "cells": [
  {
   "cell_type": "code",
   "execution_count": null,
   "id": "f5033dd9",
   "metadata": {},
   "outputs": [],
   "source": [
    "import pandas as pd\n",
    "from utils.answers_parser import parse_answers_to_dataframe, save_dataset\n",
    "\n",
    "# Parse both directories\n",
    "df = parse_answers_to_dataframe()\n",
    "\n",
    "# Save to different formats\n",
    "save_dataset(df, \"questions_answers_table.csv\", \"csv\")"
   ]
  },
  {
   "cell_type": "code",
   "execution_count": null,
   "id": "40699175",
   "metadata": {},
   "outputs": [],
   "source": [
    "df = pd.read_csv(\"questions_answers_table.csv\")\n",
    "df = df[\n",
    "    [\n",
    "        \"paper_id\",\n",
    "        \"question_id\",\n",
    "        \"question\",\n",
    "        \"answer\",\n",
    "        \"sent_transformer\",\n",
    "        \"LLM\",\n",
    "        \"finish_reason\",\n",
    "    ]\n",
    "]"
   ]
  },
  {
   "cell_type": "code",
   "execution_count": null,
   "id": "2ebe8204",
   "metadata": {},
   "outputs": [],
   "source": [
    "# Need a smarter way to index and search papers, but for now this will do\n",
    "# This was a good result as it has many answers and most are correct, except Q15/16 seem not relevant\n",
    "papers = df.paper_id.unique()\n",
    "df[df[\"paper_id\"] == papers[3]]"
   ]
  },
  {
   "cell_type": "code",
   "execution_count": null,
   "id": "2d406d27",
   "metadata": {},
   "outputs": [],
   "source": [
    "for a in df[df[\"paper_id\"] == papers[3]][\"answer\"]:\n",
    "    print(a)"
   ]
  },
  {
   "cell_type": "code",
   "execution_count": null,
   "id": "0ed8774e",
   "metadata": {},
   "outputs": [],
   "source": [
    "import json\n",
    "import os\n",
    "import pandas as pd\n",
    "\n",
    "df_small = pd.DataFrame()\n",
    "df_large = pd.DataFrame()\n",
    "for i, file in enumerate(os.listdir(\"answers_labeled\")):\n",
    "    answers = json.load(open(\"answers_labeled/\" + file))\n",
    "\n",
    "    for d in answers[\"answers\"]:\n",
    "        n_answers = len(d[\"answer\"])\n",
    "        df_small[\"paper\"] = pd.Series(answers[\"paper\"]).repeat(n_answers)\n",
    "        df_small[\"question\"] = pd.Series(d[\"question\"]).repeat(n_answers)\n",
    "        df_small[\"answer\"] = d[\"answer\"]\n",
    "\n",
    "        df_large = pd.concat([df_large, df_small], ignore_index=True)\n",
    "        df_small = pd.DataFrame()\n",
    "\n",
    "df_large"
   ]
  }
 ],
 "metadata": {
  "kernelspec": {
   "display_name": "Python 3",
   "language": "python",
   "name": "python3"
  },
  "language_info": {
   "codemirror_mode": {
    "name": "ipython",
    "version": 3
   },
   "file_extension": ".py",
   "mimetype": "text/x-python",
   "name": "python",
   "nbconvert_exporter": "python",
   "pygments_lexer": "ipython3",
   "version": "3.11.13"
  }
 },
 "nbformat": 4,
 "nbformat_minor": 5
}
